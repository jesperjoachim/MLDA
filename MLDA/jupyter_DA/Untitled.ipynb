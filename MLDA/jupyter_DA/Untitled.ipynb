{
 "cells": [
  {
   "cell_type": "code",
   "execution_count": 5,
   "metadata": {},
   "outputs": [
    {
     "name": "stdout",
     "output_type": "stream",
     "text": [
      "<class 'pandas.core.frame.DataFrame'>\n",
      "RangeIndex: 2535 entries, 0 to 2534\n",
      "Data columns (total 9 columns):\n",
      "global_warm_risk    2535 non-null category\n",
      "intimacy            78 non-null category\n",
      "gender              2535 non-null category\n",
      "group               30 non-null category\n",
      "num_police          78 non-null category\n",
      "X1                  768 non-null float64\n",
      "weight              30 non-null float64\n",
      "X3                  768 non-null float64\n",
      "Y1                  768 non-null float64\n",
      "dtypes: category(5), float64(4)\n",
      "memory usage: 92.4 KB\n",
      "True\n",
      "True\n"
     ]
    }
   ],
   "source": [
    "import pandas as pd\n",
    "# from MLDA.imports.DA_modules import *\n",
    "# from MLDA.corr_stats import corr_heatmap\n",
    "df_test = pd.read_excel(\"/home/jesper/Work/macledan/input_files/test_DF.xlsx\")\n",
    "\n",
    "catcols = [\"global_warm_risk\", \"intimacy\", \"gender\", \"group\", \"num_police\"]\n",
    "numcols = [\"X1\", \"weight\", \"X3\", \"Y1\"]\n",
    "# df_test.head()\n",
    "\n",
    "# df = pd.DataFrame({\"A\": [\"a\", \"b\", \"c\", \"a\", 1]})\n",
    "# df[\"B\"] = df[\"A\"].astype('category')\n",
    "# df\n",
    "# df.info()\n",
    "\n",
    "\n",
    "catcols = [\"global_warm_risk\", \"intimacy\", \"gender\", \"group\", \"num_police\"]\n",
    "numcols = [\"X1\", \"weight\", \"X3\", \"Y1\"]\n",
    "for entry in catcols:\n",
    "    df_test[entry] = df_test[entry].astype(\"category\")\n",
    "df_test.info()\n",
    "print((df_test[\"gender\"].dtype.name) == \"category\")\n",
    "print((df_test[\"X1\"].dtype.name) == \"float64\")"
   ]
  }
 ],
 "metadata": {
  "kernelspec": {
   "display_name": "Python 3",
   "language": "python",
   "name": "python3"
  },
  "language_info": {
   "codemirror_mode": {
    "name": "ipython",
    "version": 3
   },
   "file_extension": ".py",
   "mimetype": "text/x-python",
   "name": "python",
   "nbconvert_exporter": "python",
   "pygments_lexer": "ipython3",
   "version": "3.7.3"
  }
 },
 "nbformat": 4,
 "nbformat_minor": 2
}
